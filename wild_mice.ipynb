{
 "metadata": {
  "name": "",
  "signature": "sha256:83e6b4eaa59bb34253d5852b9ac3d3ff257721c86d4388eea177b9d32bdd0192"
 },
 "nbformat": 3,
 "nbformat_minor": 0,
 "worksheets": [
  {
   "cells": [
    {
     "cell_type": "code",
     "collapsed": false,
     "input": [
      "%load_ext rpy2.ipython "
     ],
     "language": "python",
     "metadata": {},
     "outputs": [],
     "prompt_number": 14
    },
    {
     "cell_type": "markdown",
     "metadata": {},
     "source": [
      "## Introduction\n",
      "\n",
      "\n",
      "\n",
      "## Data curation\n",
      "\n",
      "\n",
      "\n",
      "### Getting data out of the SRA"
     ]
    },
    {
     "cell_type": "code",
     "collapsed": false,
     "input": [
      "%%bash\n",
      "\n",
      "mkdir wild_mice\n",
      "cd wild_mice\n",
      "\n",
      "#download sra files\n",
      "wget -r ftp://ftp-trace.ncbi.nlm.nih.gov/sra/sra-instant/reads/ByStudy/sra/SRP/SRP044/SRP044050/*\n",
      "mv ftp-trace.ncbi.nlm.nih.gov/sra/sra-instant/reads/ByStudy/sra/SRP/SRP044/SRP044050/SRR1506*/*sra ./\n",
      "rm -rf ftp-trace.ncbi.nlm.nih.gov\n",
      "\n",
      "for SRA in *.sra\n",
      "do\n",
      "fastq-dump $SRA --split-files\n",
      "done\n",
      "\n",
      "#download run info metadata files\n",
      "wget -O ./SRP044050_info.csv 'http://trace.ncbi.nlm.nih.gov/Traces/sra/sra.cgi?save=efetch&db=sra&rettype=runinfo&term=SRP044050'\n"
     ],
     "language": "python",
     "metadata": {},
     "outputs": []
    },
    {
     "cell_type": "markdown",
     "metadata": {},
     "source": []
    },
    {
     "cell_type": "code",
     "collapsed": false,
     "input": [
      "%%R\n",
      "run.info <- read.csv(file=\"SRP044050_info.csv\", header=T, stringsAsFactors=F)\n",
      "run.16S.info <- run.info[grepl(\"16S\", run.info$LibraryName),]\n",
      "run.18S.info <- run.info[grepl(\"18S\", run.info$LibraryName),]\n",
      "\n",
      "files.16S <- cbind(run.16S.info$LibraryName, paste0(run.16S.info$Run, \"_1.fastq\"), paste0(run.16S.info$Run, \"_2.fastq\"))\n",
      "write.table(files.16S, file=\"wild_mice.16S.files\", quote=F, row.names=F, col.names=F, sep=\"\\t\")\n",
      "\n",
      "files.18S <- cbind(run.18S.info$LibraryName, paste0(run.18S.info$Run, \"_1.fastq\"), paste0(run.18S.info$Run, \"_2.fastq\"))\n",
      "write.table(files.18S, file=\"wild_mice.18S.files\", quote=F, row.names=F, col.names=F, sep=\"\\t\")\n"
     ],
     "language": "python",
     "metadata": {},
     "outputs": []
    },
    {
     "cell_type": "markdown",
     "metadata": {},
     "source": [
      "### Processing 16S and 18S rRNA gene sequence data in mothur"
     ]
    },
    {
     "cell_type": "code",
     "collapsed": false,
     "input": [
      "%%mothur\n",
      "make.contigs(file=wild_mice.16S.files, processors=8)\n",
      "make.contigs(file=wild_mice.18S.files, processors=8)\n"
     ],
     "language": "python",
     "metadata": {},
     "outputs": []
    },
    {
     "cell_type": "markdown",
     "metadata": {},
     "source": []
    },
    {
     "cell_type": "code",
     "collapsed": false,
     "input": [
      "%%bash\n",
      "mkdir sra_files\n",
      "mv *.sra *.fastq SRP044050_info.csv sra_files\n"
     ],
     "language": "python",
     "metadata": {},
     "outputs": []
    },
    {
     "cell_type": "markdown",
     "metadata": {},
     "source": []
    },
    {
     "cell_type": "code",
     "collapsed": false,
     "input": [
      "%%bash\n",
      "\n",
      "wget http://www.mothur.org/w/images/9/98/Silva.bacteria.zip\n",
      "unzip *zip\n",
      "mv silva.bacteria/silva.bacteria.fasta ./\n",
      "rm -rf silva.bacteria __MACOSX Silva.bacteria.zip\n",
      "\n",
      "mothur \"#pcr.seqs(fasta=silva.bacteria.fasta, start=11894, end=25319, keepdots=F, processors=8)\"\n",
      "mv silva.bacteria.pcr.fasta silva.v4.fasta\n",
      "\n",
      "\n",
      "wget http://www.mothur.org/w/images/5/59/Trainset9_032012.pds.zip\n",
      "unzip *zip\n",
      "rm Trainset9_032012.pds.zip\n",
      "\n",
      "wget http://www.mothur.org/WildPeromyscusStudy/v4.eukarya.tgz\n",
      "tar xvzf v4.eukarya.tgz\n",
      "rm v4.eukarya.tgz\n"
     ],
     "language": "python",
     "metadata": {},
     "outputs": []
    },
    {
     "cell_type": "markdown",
     "metadata": {},
     "source": []
    },
    {
     "cell_type": "code",
     "collapsed": false,
     "input": [
      "%%mothur\n",
      "\n",
      "unique.seqs(fasta=wild_mice.16S.trim.contigs.fasta)\n",
      "summary.seqs(fasta=current, processors=8)\n",
      "screen.seqs(fasta=current, name=current, group=wild_mice.16S.contigs.groups, summary=current, maxambig=0, maxhomop=8, maxlength=275)\n",
      "count.seqs(name=current, group=current)\n",
      "align.seqs(fasta=current, reference=silva.v4.fasta)\n",
      "summary.seqs(count=current)\n",
      "screen.seqs(fasta=current, count=current, start=1968, end=11550)\n",
      "filter.seqs(vertical=T, trump=.)\n",
      "unique.seqs(fasta=current, count=current)\n",
      "pre.cluster(fasta=current, count=current, diffs=2)\n",
      "chimera.uchime(fasta=current, count=current, dereplicate=t)\n",
      "remove.seqs(fasta=current, accnos=current)\n",
      "summary.seqs(fasta=current, count=current)\n",
      "classify.seqs(fasta=current, count=current, reference=trainset9_032012.pds.fasta, taxonomy=trainset9_032012.pds.tax, cutoff=80)\n",
      "remove.lineage(fasta=current, count=current, taxonomy=current, taxon=Chloroplast-Mitochondria-unknown-Archaea-Eukaryota)\n",
      "\n",
      "cluster.split(fasta=current, count=current, taxonomy=current, splitmethod=classify, taxlevel=4, cutoff=0.15)\n",
      "make.shared(list=current, count=current, label=0.03)\n",
      "classify.otu(list=current, count=current, taxonomy=current, label=0.03)\n",
      "\n",
      "phylotype(taxonomy=current)\n",
      "make.shared(list=current, count=current, label=1)\n",
      "classify.otu(list=current, taxonomy=current, label=1)\n",
      "\n",
      "dist.seqs(fasta=current, output=lt)\n",
      "clearcut()\n",
      "\n",
      "system(mkdir 16S.analysis)\n",
      "system(mv *.16S.* 16S.analysis)\n"
     ],
     "language": "python",
     "metadata": {},
     "outputs": []
    },
    {
     "cell_type": "markdown",
     "metadata": {},
     "source": []
    },
    {
     "cell_type": "code",
     "collapsed": false,
     "input": [
      "%%mothur\n",
      "\n",
      "screen.seqs(fasta=wild_mice.18S.trim.contigs.fasta, group=wild_mice.18S.contigs.groups, contigsreport=wild_mice.18S.contigs.report, maxambig=0, maxlength=450, minoverlap=20, maxhomop=8, processors=8);\n",
      "unique.seqs(fasta=current)\n",
      "count.seqs(name=current, group=current)\n",
      "align.seqs(fasta=current, reference=silva.eukarya.fasta)\n",
      "summary.seqs(count=current)\n",
      "screen.seqs(fasta=current, count=current, start=13876, end=22449)\n",
      "filter.seqs(vertical=T, trump=.)\n",
      "unique.seqs(fasta=current, count=current)\n",
      "pre.cluster(fasta=current, count=current, diffs=2)\n",
      "chimera.uchime(fasta=current, count=current, dereplicate=t)\n",
      "remove.seqs(fasta=current, accnos=current)\n",
      "summary.seqs(fasta=current, count=current)\n",
      "\n",
      "classify.seqs(fasta=current, count=current, reference=v4.eukarya.fasta, taxonomy=v4.eukarya.tax, cutoff=80)\n",
      "remove.lineage(fasta=current, count=current, taxonomy=current, taxon=Mammalia-Amoebozoa-Cryptophyceae-Excavata-SAR-Nematoda-Rotifera-Tardigrada-Archaeorhizomyces-LKM11-LKM15-uncultured-Chlorophyta-Eukaryota;unclassified;-Archaeplastida;unclassified-Eukaryota;Opisthokonta;Fungi;unclassified;-Opisthokonta;unclassified)\n",
      "phylotype(taxonomy=current)\n",
      "make.shared(list=current, count=current, label=1)\n",
      "classify.otu(list=current, count=current, taxonomy=current, label=1)\n",
      "\n",
      "system(mkdir 18S.analysis)\n",
      "system(mv *.18S.* 18S.analysis)\n"
     ],
     "language": "python",
     "metadata": {},
     "outputs": []
    },
    {
     "cell_type": "markdown",
     "metadata": {},
     "source": []
    },
    {
     "cell_type": "markdown",
     "metadata": {},
     "source": [
      "## Data analysis"
     ]
    },
    {
     "cell_type": "markdown",
     "metadata": {},
     "source": [
      "### Field capture of *Peromyscus* spp."
     ]
    },
    {
     "cell_type": "code",
     "collapsed": false,
     "input": [
      "%%R\n",
      "X=c(1,4,5,7)\n",
      "Y = c(2,4,3,9)\n",
      "summary(lm(Y~X))\n",
      "mean(X)"
     ],
     "language": "python",
     "metadata": {},
     "outputs": [
      {
       "metadata": {},
       "output_type": "display_data",
       "text": [
        "[1] 4.25\n"
       ]
      }
     ],
     "prompt_number": 25
    },
    {
     "cell_type": "code",
     "collapsed": true,
     "input": [
      "%%R -o counts\n",
      "north_south <- c(\"DD\"=1, \"CC\"=2, \"BB\"=3, \"AA\"=4, \"A\"=5, \"B\"=6, \"C\"=7, \"D\"=8, \"E\"=9, \"F\"=10, \"G\"=11, \"H\"=12, \"I\"=13, \"J\"=14, \"K\"=15, \"L\"=16, \"M\"=17, \"N\"=18, \"O\"=19, \"P\"=20)\n",
      "\n",
      "grid <- matrix(rep(0, 20*20), nrow=20)\n",
      "rownames(grid) <- 1:20\n",
      "colnames(grid) <- 1:20\n",
      "\n",
      "pl_grid <- matrix(rep(0, 20*20), nrow=20)\n",
      "rownames(pl_grid) <- 1:20\n",
      "colnames(pl_grid) <- 1:20\n",
      "\n",
      "pmg_grid <- matrix(rep(0, 20*20), nrow=20)\n",
      "rownames(pmg_grid) <- 1:20\n",
      "colnames(pmg_grid) <- 1:20\n",
      "\n",
      "md <- read.table(file=\"wild.metadata.txt\", header=T)\n",
      "rownames(md) <- md$Group\n",
      "\n",
      "counts <- table(md$SP)\n"
     ],
     "language": "python",
     "metadata": {},
     "outputs": [],
     "prompt_number": 29
    },
    {
     "cell_type": "markdown",
     "metadata": {},
     "source": [
      "We see that we have counts$PL P. leucopis and counts$PMG P. maniculatis mice that were sampled."
     ]
    },
    {
     "cell_type": "code",
     "collapsed": false,
     "input": [
      "et.sp <- table(md$ET, md$SP)\n",
      "apply(et.sp>0, 2, sum)\n",
      "# PL PMG \n",
      "# 26  23 \n",
      "\n",
      "sum(table(md$ET) > 1)\n",
      "#[1] 29 animals captured multiple times\n",
      "\n",
      "\n",
      "\n",
      "\n",
      "row <- north_south[gsub(\"(\\\\D+)\\\\d+\", \"\\\\1\", md$Station)]\n",
      "column <- as.numeric(gsub(\"\\\\D+(\\\\d+)\", \"\\\\1\", md$Station))\n",
      "nsamples <- length(row)\n",
      "\n",
      "for(i in 1:nsamples){\n",
      "\tgrid[row[i],column[i]] <- grid[row[i],column[i]]+1\n",
      "\tif(md$SP[i] == \"PL\"){\n",
      "\t\tpl_grid[row[i],column[i]] <- pl_grid[row[i],column[i]]+1\n",
      "\t} else {\n",
      "\t\tpmg_grid[row[i],column[i]] <- pmg_grid[row[i],column[i]]+1\n",
      "\t}\n",
      "}\n",
      "\n",
      "pmg_grid"
     ],
     "language": "python",
     "metadata": {},
     "outputs": []
    },
    {
     "cell_type": "markdown",
     "metadata": {},
     "source": [
      "### Host species does not affect microbiota structure"
     ]
    },
    {
     "cell_type": "code",
     "collapsed": false,
     "input": [],
     "language": "python",
     "metadata": {},
     "outputs": []
    },
    {
     "cell_type": "markdown",
     "metadata": {},
     "source": [
      "### Effects of host physiology on diversity and richness"
     ]
    },
    {
     "cell_type": "code",
     "collapsed": false,
     "input": [],
     "language": "python",
     "metadata": {},
     "outputs": []
    },
    {
     "cell_type": "markdown",
     "metadata": {},
     "source": [
      "### Location of sampling was not associated with variation in microbiota"
     ]
    },
    {
     "cell_type": "code",
     "collapsed": false,
     "input": [],
     "language": "python",
     "metadata": {},
     "outputs": []
    },
    {
     "cell_type": "markdown",
     "metadata": {},
     "source": [
      "### Diet was not associated with variation in microbiota"
     ]
    },
    {
     "cell_type": "code",
     "collapsed": false,
     "input": [],
     "language": "python",
     "metadata": {},
     "outputs": []
    },
    {
     "cell_type": "markdown",
     "metadata": {},
     "source": [
      "### A transient microbiota"
     ]
    },
    {
     "cell_type": "code",
     "collapsed": false,
     "input": [],
     "language": "python",
     "metadata": {},
     "outputs": []
    },
    {
     "cell_type": "markdown",
     "metadata": {},
     "source": [
      "## Conclusion"
     ]
    },
    {
     "cell_type": "code",
     "collapsed": false,
     "input": [
      "\n"
     ],
     "language": "python",
     "metadata": {},
     "outputs": []
    }
   ],
   "metadata": {}
  }
 ]
}