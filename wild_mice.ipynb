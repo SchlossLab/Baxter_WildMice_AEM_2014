{
 "metadata": {
  "name": ""
 },
 "nbformat": 3,
 "nbformat_minor": 0,
 "worksheets": [
  {
   "cells": [
    {
     "cell_type": "code",
     "collapsed": false,
     "input": [
      "%%bash\n",
      "\n",
      "mkdir wild_mice\n",
      "cd wild_mice\n",
      "\n",
      "#download sra files\n",
      "wget -r ftp://ftp-trace.ncbi.nlm.nih.gov/sra/sra-instant/reads/ByStudy/sra/SRP/SRP044/SRP044050/*\n",
      "mv ftp-trace.ncbi.nlm.nih.gov/sra/sra-instant/reads/ByStudy/sra/SRP/SRP044/SRP044050/SRR1506*/*sra ./\n",
      "rm -rf ftp-trace.ncbi.nlm.nih.gov\n",
      "\n",
      "for SRA in *.sra\n",
      "do\n",
      "fastq-dump $SRA --split-files\n",
      "done\n",
      "\n",
      "#download run info metadata files\n",
      "wget -O ./SRP044050_info.csv 'http://trace.ncbi.nlm.nih.gov/Traces/sra/sra.cgi?save=efetch&db=sra&rettype=runinfo&term=SRP044050'\n"
     ],
     "language": "python",
     "metadata": {},
     "outputs": []
    },
    {
     "cell_type": "code",
     "collapsed": false,
     "input": [
      "%%R\n",
      "run.info <- read.csv(file=\"SRP044050_info.csv\", header=T, stringsAsFactors=F)\n",
      "run.16S.info <- run.info[grepl(\"16S\", run.info$LibraryName),]\n",
      "run.18S.info <- run.info[grepl(\"18S\", run.info$LibraryName),]\n",
      "\n",
      "files.16S <- cbind(run.16S.info$LibraryName, paste0(run.16S.info$Run, \"_1.fastq\"), paste0(run.16S.info$Run, \"_2.fastq\"))\n",
      "write.table(files.16S, file=\"wild_mice.16S.files\", quote=F, row.names=F, col.names=F, sep=\"\\t\")\n",
      "\n",
      "files.18S <- cbind(run.18S.info$LibraryName, paste0(run.18S.info$Run, \"_1.fastq\"), paste0(run.18S.info$Run, \"_2.fastq\"))\n",
      "write.table(files.18S, file=\"wild_mice.18S.files\", quote=F, row.names=F, col.names=F, sep=\"\\t\")\n"
     ],
     "language": "python",
     "metadata": {},
     "outputs": []
    },
    {
     "cell_type": "code",
     "collapsed": false,
     "input": [
      "%%mothur\n",
      "make.contigs(file=wild_mice.16S.files, processors=8)\n",
      "make.contigs(file=wild_mice.18S.files, processors=8)\n"
     ],
     "language": "python",
     "metadata": {},
     "outputs": []
    },
    {
     "cell_type": "code",
     "collapsed": false,
     "input": [
      "%%bash\n",
      "mkdir sra_files\n",
      "mv *.sra *.fastq SRP044050_info.csv sra_files\n"
     ],
     "language": "python",
     "metadata": {},
     "outputs": []
    },
    {
     "cell_type": "code",
     "collapsed": false,
     "input": [
      "%%bash\n",
      "\n",
      "wget http://www.mothur.org/w/images/9/98/Silva.bacteria.zip\n",
      "unzip *zip\n",
      "mv silva.bacteria/silva.bacteria.fasta ./\n",
      "rm -rf silva.bacteria __MACOSX Silva.bacteria.zip\n",
      "\n",
      "mothur \"#pcr.seqs(fasta=silva.bacteria.fasta, start=11894, end=25319, keepdots=F, processors=8)\"\n",
      "mv silva.bacteria.pcr.fasta silva.v4.fasta\n",
      "\n",
      "\n",
      "wget http://www.mothur.org/w/images/5/59/Trainset9_032012.pds.zip\n",
      "unzip *zip\n",
      "rm Trainset9_032012.pds.zip\n",
      "\n",
      "\n",
      "wget http://www.mothur.org/WildPeromyscusStudy/v4.eukarya.tgz\n",
      "tar xvzf v4.eukarya.tgz\n"
     ],
     "language": "python",
     "metadata": {},
     "outputs": []
    },
    {
     "cell_type": "code",
     "collapsed": false,
     "input": [
      "%%mothur\n",
      "\n",
      "unique.seqs(fasta=wild_mice.16S.trim.contigs.fasta)\n",
      "summary.seqs(fasta=current, processors=8)\n",
      "screen.seqs(fasta=current, name=current, group=wild_mice.16S.contigs.groups, summary=current, maxambig=0, maxhomop=8, maxlength=275)\n",
      "count.seqs(name=current, group=current)\n",
      "align.seqs(fasta=current, reference=silva.v4.fasta)\n",
      "summary.seqs(count=current)\n",
      "screen.seqs(fasta=current, count=current, start=1968, end=11550)\n",
      "filter.seqs(vertical=T, trump=.)\n",
      "unique.seqs(fasta=current, count=current)\n",
      "pre.cluster(fasta=current, count=current, diffs=2)\n",
      "chimera.uchime(fasta=current, count=current, dereplicate=t)\n",
      "remove.seqs(fasta=current, accnos=current)\n",
      "summary.seqs(fasta=current, count=current)\n",
      "classify.seqs(fasta=current, count=current, reference=trainset9_032012.pds.fasta, taxonomy=trainset9_032012.pds.tax, cutoff=80)\n",
      "remove.lineage(fasta=current, count=current, taxonomy=current, taxon=Chloroplast-Mitochondria-unknown-Archaea-Eukaryota)\n",
      "\n",
      "cluster.split(fasta=current, count=current, taxonomy=current, splitmethod=classify, taxlevel=4, cutoff=0.15)\n",
      "make.shared(list=current, count=current, label=0.03)\n",
      "classify.otu(list=current, count=current, taxonomy=current, label=0.03)\n",
      "\n",
      "phylotype(taxonomy=current)\n",
      "make.shared(list=current, count=current, label=1)\n",
      "classify.otu(list=current, taxonomy=current, label=1)\n",
      "\n",
      "dist.seqs(fasta=current, output=lt)\n",
      "clearcut()\n",
      "\n",
      "system(mkdir 16S.analysis)\n",
      "system(mv *.16S.* 16S.analysis)\n"
     ],
     "language": "python",
     "metadata": {},
     "outputs": []
    },
    {
     "cell_type": "code",
     "collapsed": false,
     "input": [
      "%%mothur\n",
      "\n",
      "screen.seqs(fasta=wild_mice.18S.trim.contigs.fasta, group=wild_mice.18S.contigs.groups, contigsreport=wild_mice.18S.contigs.report, maxambig=0, maxlength=450, minoverlap=20, maxhomop=8, processors=8);\n",
      "unique.seqs(fasta=current)\n",
      "count.seqs(name=current, group=current)\n",
      "align.seqs(fasta=current, reference=silva.eukarya.fasta)\n",
      "summary.seqs(count=current)\n",
      "screen.seqs(fasta=current, count=current, start=13876, end=22449)\n",
      "filter.seqs(vertical=T, trump=.)\n",
      "unique.seqs(fasta=current, count=current)\n",
      "pre.cluster(fasta=current, count=current, diffs=2)\n",
      "chimera.uchime(fasta=current, count=current, dereplicate=t)\n",
      "remove.seqs(fasta=current, accnos=current)\n",
      "summary.seqs(fasta=current, count=current)\n",
      "\n",
      "classify.seqs(fasta=current, count=current, reference=v4.eukarya.fasta, taxonomy=v4.eukarya.tax, cutoff=80)\n",
      "remove.lineage(fasta=current, count=current, taxonomy=current, taxon=Mammalia-Amoebozoa-Cryptophyceae-Excavata-SAR-Nematoda-Rotifera-Tardigrada-Archaeorhizomyces-LKM11-LKM15-uncultured-Chlorophyta-Eukaryota;unclassified;-Archaeplastida;unclassified-Eukaryota;Opisthokonta;Fungi;unclassified;-Opisthokonta;unclassified)\n",
      "phylotype(taxonomy=current)\n",
      "make.shared(list=current, count=current, label=1)\n",
      "classify.otu(list=current, count=current, taxonomy=current, label=1)\n",
      "\n"
     ],
     "language": "python",
     "metadata": {},
     "outputs": []
    }
   ],
   "metadata": {}
  }
 ]
}