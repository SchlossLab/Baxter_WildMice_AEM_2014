{
 "metadata": {
  "name": ""
 },
 "nbformat": 3,
 "nbformat_minor": 0,
 "worksheets": [
  {
   "cells": [
    {
     "cell_type": "code",
     "collapsed": false,
     "input": [
      "%%bash\n",
      "\n",
      "mkdir wild_mice\n",
      "cd wild_mice\n",
      "\n",
      "#download sra files\n",
      "wget -r ftp://ftp-trace.ncbi.nlm.nih.gov/sra/sra-instant/reads/ByStudy/sra/SRP/SRP044/SRP044050/*\n",
      "mv ftp-trace.ncbi.nlm.nih.gov/sra/sra-instant/reads/ByStudy/sra/SRP/SRP044/SRP044050/SRR1506*/*sra ./\n",
      "rm -rf ftp-trace.ncbi.nlm.nih.gov\n",
      "\n",
      "for SRA in *.sra\n",
      "do\n",
      "fastq-dump $SRA --split-files\n",
      "done\n",
      "\n",
      "#download run info metadata files\n",
      "wget -O ./SRP044050_info.csv 'http://trace.ncbi.nlm.nih.gov/Traces/sra/sra.cgi?save=efetch&db=sra&rettype=runinfo&term=SRP044050'\n"
     ],
     "language": "python",
     "metadata": {},
     "outputs": []
    },
    {
     "cell_type": "code",
     "collapsed": false,
     "input": [
      "%%R\n",
      "run.info <- read.csv(file=\"SRP044050_info.csv\", header=T, stringsAsFactors=F)\n",
      "run.16S.info <- run.info[grepl(\"16S\", run.info$LibraryName),]\n",
      "run.18S.info <- run.info[grepl(\"18S\", run.info$LibraryName),]\n",
      "\n",
      "files.16S <- cbind(run.16S.info$LibraryName, paste0(run.16S.info$Run, \"_1.fastq\"), paste0(run.16S.info$Run, \"_2.fastq\"))\n",
      "write.table(files.16S, file=\"wild_mice.16S.files\", quote=F, row.names=F, col.names=F, sep=\"\\t\")\n",
      "\n",
      "files.18S <- cbind(run.18S.info$LibraryName, paste0(run.18S.info$Run, \"_1.fastq\"), paste0(run.18S.info$Run, \"_2.fastq\"))\n",
      "write.table(files.18S, file=\"wild_mice.18S.files\", quote=F, row.names=F, col.names=F, sep=\"\\t\")\n"
     ],
     "language": "python",
     "metadata": {},
     "outputs": []
    },
    {
     "cell_type": "code",
     "collapsed": false,
     "input": [
      "%%mothur\n",
      "make.contigs(file=wild_mice.16S.files, processors=8)\n",
      "make.contigs(file=wild_mice.18S.files, processors=8)\n"
     ],
     "language": "python",
     "metadata": {},
     "outputs": []
    },
    {
     "cell_type": "code",
     "collapsed": false,
     "input": [
      "%%bash\n",
      "mkdir sra_files\n",
      "mv *.sra *.fastq SRP044050_info.csv sra_files\n"
     ],
     "language": "python",
     "metadata": {},
     "outputs": []
    }
   ],
   "metadata": {}
  }
 ]
}